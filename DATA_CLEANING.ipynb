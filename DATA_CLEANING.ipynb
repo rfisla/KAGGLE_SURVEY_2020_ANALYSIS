{
 "cells": [
  {
   "cell_type": "markdown",
   "metadata": {},
   "source": [
    "# KAGGLE SURVEY"
   ]
  },
  {
   "cell_type": "code",
   "execution_count": 1,
   "metadata": {},
   "outputs": [],
   "source": [
    "import pandas as pd"
   ]
  },
  {
   "cell_type": "code",
   "execution_count": 2,
   "metadata": {},
   "outputs": [
    {
     "name": "stderr",
     "output_type": "stream",
     "text": [
      "C:\\Users\\Usuario\\anaconda3\\lib\\site-packages\\IPython\\core\\interactiveshell.py:3156: DtypeWarning: Columns (0) have mixed types.Specify dtype option on import or set low_memory=False.\n",
      "  interactivity=interactivity, compiler=compiler, result=result)\n"
     ]
    },
    {
     "name": "stdout",
     "output_type": "stream",
     "text": [
      "(20038, 355)\n"
     ]
    },
    {
     "data": {
      "text/html": [
       "<div>\n",
       "<style scoped>\n",
       "    .dataframe tbody tr th:only-of-type {\n",
       "        vertical-align: middle;\n",
       "    }\n",
       "\n",
       "    .dataframe tbody tr th {\n",
       "        vertical-align: top;\n",
       "    }\n",
       "\n",
       "    .dataframe thead th {\n",
       "        text-align: right;\n",
       "    }\n",
       "</style>\n",
       "<table border=\"1\" class=\"dataframe\">\n",
       "  <thead>\n",
       "    <tr style=\"text-align: right;\">\n",
       "      <th></th>\n",
       "      <th>0</th>\n",
       "      <th>1</th>\n",
       "      <th>2</th>\n",
       "      <th>3</th>\n",
       "      <th>4</th>\n",
       "      <th>5</th>\n",
       "      <th>6</th>\n",
       "      <th>7</th>\n",
       "      <th>8</th>\n",
       "      <th>9</th>\n",
       "      <th>...</th>\n",
       "      <th>345</th>\n",
       "      <th>346</th>\n",
       "      <th>347</th>\n",
       "      <th>348</th>\n",
       "      <th>349</th>\n",
       "      <th>350</th>\n",
       "      <th>351</th>\n",
       "      <th>352</th>\n",
       "      <th>353</th>\n",
       "      <th>354</th>\n",
       "    </tr>\n",
       "  </thead>\n",
       "  <tbody>\n",
       "    <tr>\n",
       "      <th>0</th>\n",
       "      <td>Time from Start to Finish (seconds)</td>\n",
       "      <td>Q1</td>\n",
       "      <td>Q2</td>\n",
       "      <td>Q3</td>\n",
       "      <td>Q4</td>\n",
       "      <td>Q5</td>\n",
       "      <td>Q6</td>\n",
       "      <td>Q7_Part_1</td>\n",
       "      <td>Q7_Part_2</td>\n",
       "      <td>Q7_Part_3</td>\n",
       "      <td>...</td>\n",
       "      <td>Q35_B_Part_2</td>\n",
       "      <td>Q35_B_Part_3</td>\n",
       "      <td>Q35_B_Part_4</td>\n",
       "      <td>Q35_B_Part_5</td>\n",
       "      <td>Q35_B_Part_6</td>\n",
       "      <td>Q35_B_Part_7</td>\n",
       "      <td>Q35_B_Part_8</td>\n",
       "      <td>Q35_B_Part_9</td>\n",
       "      <td>Q35_B_Part_10</td>\n",
       "      <td>Q35_B_OTHER</td>\n",
       "    </tr>\n",
       "    <tr>\n",
       "      <th>1</th>\n",
       "      <td>Duration (in seconds)</td>\n",
       "      <td>What is your age (# years)?</td>\n",
       "      <td>What is your gender? - Selected Choice</td>\n",
       "      <td>In which country do you currently reside?</td>\n",
       "      <td>What is the highest level of formal education ...</td>\n",
       "      <td>Select the title most similar to your current ...</td>\n",
       "      <td>For how many years have you been writing code ...</td>\n",
       "      <td>What programming languages do you use on a reg...</td>\n",
       "      <td>What programming languages do you use on a reg...</td>\n",
       "      <td>What programming languages do you use on a reg...</td>\n",
       "      <td>...</td>\n",
       "      <td>In the next 2 years, do you hope to become mor...</td>\n",
       "      <td>In the next 2 years, do you hope to become mor...</td>\n",
       "      <td>In the next 2 years, do you hope to become mor...</td>\n",
       "      <td>In the next 2 years, do you hope to become mor...</td>\n",
       "      <td>In the next 2 years, do you hope to become mor...</td>\n",
       "      <td>In the next 2 years, do you hope to become mor...</td>\n",
       "      <td>In the next 2 years, do you hope to become mor...</td>\n",
       "      <td>In the next 2 years, do you hope to become mor...</td>\n",
       "      <td>In the next 2 years, do you hope to become mor...</td>\n",
       "      <td>In the next 2 years, do you hope to become mor...</td>\n",
       "    </tr>\n",
       "    <tr>\n",
       "      <th>2</th>\n",
       "      <td>1838</td>\n",
       "      <td>35-39</td>\n",
       "      <td>Man</td>\n",
       "      <td>Colombia</td>\n",
       "      <td>Doctoral degree</td>\n",
       "      <td>Student</td>\n",
       "      <td>5-10 years</td>\n",
       "      <td>Python</td>\n",
       "      <td>R</td>\n",
       "      <td>SQL</td>\n",
       "      <td>...</td>\n",
       "      <td></td>\n",
       "      <td></td>\n",
       "      <td></td>\n",
       "      <td>TensorBoard</td>\n",
       "      <td></td>\n",
       "      <td></td>\n",
       "      <td></td>\n",
       "      <td></td>\n",
       "      <td></td>\n",
       "      <td></td>\n",
       "    </tr>\n",
       "    <tr>\n",
       "      <th>3</th>\n",
       "      <td>289287</td>\n",
       "      <td>30-34</td>\n",
       "      <td>Man</td>\n",
       "      <td>United States of America</td>\n",
       "      <td>Master’s degree</td>\n",
       "      <td>Data Engineer</td>\n",
       "      <td>5-10 years</td>\n",
       "      <td>Python</td>\n",
       "      <td>R</td>\n",
       "      <td>SQL</td>\n",
       "      <td>...</td>\n",
       "      <td></td>\n",
       "      <td></td>\n",
       "      <td></td>\n",
       "      <td></td>\n",
       "      <td></td>\n",
       "      <td></td>\n",
       "      <td></td>\n",
       "      <td></td>\n",
       "      <td></td>\n",
       "      <td></td>\n",
       "    </tr>\n",
       "    <tr>\n",
       "      <th>4</th>\n",
       "      <td>860</td>\n",
       "      <td>35-39</td>\n",
       "      <td>Man</td>\n",
       "      <td>Argentina</td>\n",
       "      <td>Bachelor’s degree</td>\n",
       "      <td>Software Engineer</td>\n",
       "      <td>10-20 years</td>\n",
       "      <td></td>\n",
       "      <td></td>\n",
       "      <td></td>\n",
       "      <td>...</td>\n",
       "      <td></td>\n",
       "      <td></td>\n",
       "      <td></td>\n",
       "      <td></td>\n",
       "      <td></td>\n",
       "      <td></td>\n",
       "      <td></td>\n",
       "      <td></td>\n",
       "      <td>None</td>\n",
       "      <td></td>\n",
       "    </tr>\n",
       "  </tbody>\n",
       "</table>\n",
       "<p>5 rows × 355 columns</p>\n",
       "</div>"
      ],
      "text/plain": [
       "                                   0                            1    \\\n",
       "0  Time from Start to Finish (seconds)                           Q1   \n",
       "1                Duration (in seconds)  What is your age (# years)?   \n",
       "2                                 1838                        35-39   \n",
       "3                               289287                        30-34   \n",
       "4                                  860                        35-39   \n",
       "\n",
       "                                      2    \\\n",
       "0                                      Q2   \n",
       "1  What is your gender? - Selected Choice   \n",
       "2                                     Man   \n",
       "3                                     Man   \n",
       "4                                     Man   \n",
       "\n",
       "                                         3    \\\n",
       "0                                         Q3   \n",
       "1  In which country do you currently reside?   \n",
       "2                                   Colombia   \n",
       "3                   United States of America   \n",
       "4                                  Argentina   \n",
       "\n",
       "                                                 4    \\\n",
       "0                                                 Q4   \n",
       "1  What is the highest level of formal education ...   \n",
       "2                                    Doctoral degree   \n",
       "3                                    Master’s degree   \n",
       "4                                  Bachelor’s degree   \n",
       "\n",
       "                                                 5    \\\n",
       "0                                                 Q5   \n",
       "1  Select the title most similar to your current ...   \n",
       "2                                            Student   \n",
       "3                                      Data Engineer   \n",
       "4                                  Software Engineer   \n",
       "\n",
       "                                                 6    \\\n",
       "0                                                 Q6   \n",
       "1  For how many years have you been writing code ...   \n",
       "2                                         5-10 years   \n",
       "3                                         5-10 years   \n",
       "4                                        10-20 years   \n",
       "\n",
       "                                                 7    \\\n",
       "0                                          Q7_Part_1   \n",
       "1  What programming languages do you use on a reg...   \n",
       "2                                             Python   \n",
       "3                                             Python   \n",
       "4                                                      \n",
       "\n",
       "                                                 8    \\\n",
       "0                                          Q7_Part_2   \n",
       "1  What programming languages do you use on a reg...   \n",
       "2                                                  R   \n",
       "3                                                  R   \n",
       "4                                                      \n",
       "\n",
       "                                                 9    ...  \\\n",
       "0                                          Q7_Part_3  ...   \n",
       "1  What programming languages do you use on a reg...  ...   \n",
       "2                                                SQL  ...   \n",
       "3                                                SQL  ...   \n",
       "4                                                     ...   \n",
       "\n",
       "                                                 345  \\\n",
       "0                                       Q35_B_Part_2   \n",
       "1  In the next 2 years, do you hope to become mor...   \n",
       "2                                                      \n",
       "3                                                      \n",
       "4                                                      \n",
       "\n",
       "                                                 346  \\\n",
       "0                                       Q35_B_Part_3   \n",
       "1  In the next 2 years, do you hope to become mor...   \n",
       "2                                                      \n",
       "3                                                      \n",
       "4                                                      \n",
       "\n",
       "                                                 347  \\\n",
       "0                                       Q35_B_Part_4   \n",
       "1  In the next 2 years, do you hope to become mor...   \n",
       "2                                                      \n",
       "3                                                      \n",
       "4                                                      \n",
       "\n",
       "                                                 348  \\\n",
       "0                                       Q35_B_Part_5   \n",
       "1  In the next 2 years, do you hope to become mor...   \n",
       "2                                       TensorBoard    \n",
       "3                                                      \n",
       "4                                                      \n",
       "\n",
       "                                                 349  \\\n",
       "0                                       Q35_B_Part_6   \n",
       "1  In the next 2 years, do you hope to become mor...   \n",
       "2                                                      \n",
       "3                                                      \n",
       "4                                                      \n",
       "\n",
       "                                                 350  \\\n",
       "0                                       Q35_B_Part_7   \n",
       "1  In the next 2 years, do you hope to become mor...   \n",
       "2                                                      \n",
       "3                                                      \n",
       "4                                                      \n",
       "\n",
       "                                                 351  \\\n",
       "0                                       Q35_B_Part_8   \n",
       "1  In the next 2 years, do you hope to become mor...   \n",
       "2                                                      \n",
       "3                                                      \n",
       "4                                                      \n",
       "\n",
       "                                                 352  \\\n",
       "0                                       Q35_B_Part_9   \n",
       "1  In the next 2 years, do you hope to become mor...   \n",
       "2                                                      \n",
       "3                                                      \n",
       "4                                                      \n",
       "\n",
       "                                                 353  \\\n",
       "0                                      Q35_B_Part_10   \n",
       "1  In the next 2 years, do you hope to become mor...   \n",
       "2                                                      \n",
       "3                                                      \n",
       "4                                               None   \n",
       "\n",
       "                                                 354  \n",
       "0                                        Q35_B_OTHER  \n",
       "1  In the next 2 years, do you hope to become mor...  \n",
       "2                                                     \n",
       "3                                                     \n",
       "4                                                     \n",
       "\n",
       "[5 rows x 355 columns]"
      ]
     },
     "execution_count": 2,
     "metadata": {},
     "output_type": "execute_result"
    }
   ],
   "source": [
    "survey = pd.read_csv('kaggle_survey_2020_responses.csv', header=None)\n",
    "print(survey.shape)\n",
    "survey.fillna(' ', inplace=True)\n",
    "survey.head(5)"
   ]
  },
  {
   "cell_type": "markdown",
   "metadata": {},
   "source": [
    "### Joining the 2 first rows into a unique header"
   ]
  },
  {
   "cell_type": "code",
   "execution_count": 3,
   "metadata": {},
   "outputs": [
    {
     "data": {
      "text/html": [
       "<div>\n",
       "<style scoped>\n",
       "    .dataframe tbody tr th:only-of-type {\n",
       "        vertical-align: middle;\n",
       "    }\n",
       "\n",
       "    .dataframe tbody tr th {\n",
       "        vertical-align: top;\n",
       "    }\n",
       "\n",
       "    .dataframe thead th {\n",
       "        text-align: right;\n",
       "    }\n",
       "</style>\n",
       "<table border=\"1\" class=\"dataframe\">\n",
       "  <thead>\n",
       "    <tr style=\"text-align: right;\">\n",
       "      <th></th>\n",
       "      <th>Time from Start to Finish (seconds): Duration (in seconds)</th>\n",
       "      <th>Q1: What is your age (# years)?</th>\n",
       "      <th>Q2: What is your gender? - Selected Choice</th>\n",
       "      <th>Q3: In which country do you currently reside?</th>\n",
       "      <th>Q4: What is the highest level of formal education that you have attained or plan to attain within the next 2 years?</th>\n",
       "      <th>Q5: Select the title most similar to your current role (or most recent title if retired): - Selected Choice</th>\n",
       "      <th>Q6: For how many years have you been writing code and/or programming?</th>\n",
       "      <th>Q7_Part_1: What programming languages do you use on a regular basis? (Select all that apply) - Selected Choice - Python</th>\n",
       "      <th>Q7_Part_2: What programming languages do you use on a regular basis? (Select all that apply) - Selected Choice - R</th>\n",
       "      <th>Q7_Part_3: What programming languages do you use on a regular basis? (Select all that apply) - Selected Choice - SQL</th>\n",
       "      <th>...</th>\n",
       "      <th>Q35_B_Part_2: In the next 2 years, do you hope to become more familiar with any of these tools for managing ML experiments? (Select all that apply) - Selected Choice -  Weights &amp; Biases</th>\n",
       "      <th>Q35_B_Part_3: In the next 2 years, do you hope to become more familiar with any of these tools for managing ML experiments? (Select all that apply) - Selected Choice -  Comet.ml</th>\n",
       "      <th>Q35_B_Part_4: In the next 2 years, do you hope to become more familiar with any of these tools for managing ML experiments? (Select all that apply) - Selected Choice -  Sacred + Omniboard</th>\n",
       "      <th>Q35_B_Part_5: In the next 2 years, do you hope to become more familiar with any of these tools for managing ML experiments? (Select all that apply) - Selected Choice -  TensorBoard</th>\n",
       "      <th>Q35_B_Part_6: In the next 2 years, do you hope to become more familiar with any of these tools for managing ML experiments? (Select all that apply) - Selected Choice -  Guild.ai</th>\n",
       "      <th>Q35_B_Part_7: In the next 2 years, do you hope to become more familiar with any of these tools for managing ML experiments? (Select all that apply) - Selected Choice -  Polyaxon</th>\n",
       "      <th>Q35_B_Part_8: In the next 2 years, do you hope to become more familiar with any of these tools for managing ML experiments? (Select all that apply) - Selected Choice -  Trains</th>\n",
       "      <th>Q35_B_Part_9: In the next 2 years, do you hope to become more familiar with any of these tools for managing ML experiments? (Select all that apply) - Selected Choice -  Domino Model Monitor</th>\n",
       "      <th>Q35_B_Part_10: In the next 2 years, do you hope to become more familiar with any of these tools for managing ML experiments? (Select all that apply) - Selected Choice - None</th>\n",
       "      <th>Q35_B_OTHER: In the next 2 years, do you hope to become more familiar with any of these tools for managing ML experiments? (Select all that apply) - Selected Choice - Other</th>\n",
       "    </tr>\n",
       "  </thead>\n",
       "  <tbody>\n",
       "    <tr>\n",
       "      <th>2</th>\n",
       "      <td>1838</td>\n",
       "      <td>35-39</td>\n",
       "      <td>Man</td>\n",
       "      <td>Colombia</td>\n",
       "      <td>Doctoral degree</td>\n",
       "      <td>Student</td>\n",
       "      <td>5-10 years</td>\n",
       "      <td>Python</td>\n",
       "      <td>R</td>\n",
       "      <td>SQL</td>\n",
       "      <td>...</td>\n",
       "      <td></td>\n",
       "      <td></td>\n",
       "      <td></td>\n",
       "      <td>TensorBoard</td>\n",
       "      <td></td>\n",
       "      <td></td>\n",
       "      <td></td>\n",
       "      <td></td>\n",
       "      <td></td>\n",
       "      <td></td>\n",
       "    </tr>\n",
       "  </tbody>\n",
       "</table>\n",
       "<p>1 rows × 355 columns</p>\n",
       "</div>"
      ],
      "text/plain": [
       "  Time from Start to Finish (seconds): Duration (in seconds)  \\\n",
       "2                                               1838           \n",
       "\n",
       "  Q1: What is your age (# years)? Q2: What is your gender? - Selected Choice  \\\n",
       "2                           35-39                                        Man   \n",
       "\n",
       "  Q3: In which country do you currently reside?  \\\n",
       "2                                      Colombia   \n",
       "\n",
       "  Q4: What is the highest level of formal education that you have attained or plan to attain within the next 2 years?  \\\n",
       "2                                    Doctoral degree                                                                    \n",
       "\n",
       "  Q5: Select the title most similar to your current role (or most recent title if retired): - Selected Choice  \\\n",
       "2                                            Student                                                            \n",
       "\n",
       "  Q6: For how many years have you been writing code and/or programming?  \\\n",
       "2                                         5-10 years                      \n",
       "\n",
       "  Q7_Part_1: What programming languages do you use on a regular basis? (Select all that apply) - Selected Choice - Python  \\\n",
       "2                                             Python                                                                        \n",
       "\n",
       "  Q7_Part_2: What programming languages do you use on a regular basis? (Select all that apply) - Selected Choice - R  \\\n",
       "2                                                  R                                                                   \n",
       "\n",
       "  Q7_Part_3: What programming languages do you use on a regular basis? (Select all that apply) - Selected Choice - SQL  \\\n",
       "2                                                SQL                                                                     \n",
       "\n",
       "   ...  \\\n",
       "2  ...   \n",
       "\n",
       "  Q35_B_Part_2: In the next 2 years, do you hope to become more familiar with any of these tools for managing ML experiments? (Select all that apply) - Selected Choice -  Weights & Biases   \\\n",
       "2                                                                                                                                                                                              \n",
       "\n",
       "  Q35_B_Part_3: In the next 2 years, do you hope to become more familiar with any of these tools for managing ML experiments? (Select all that apply) - Selected Choice -  Comet.ml   \\\n",
       "2                                                                                                                                                                                      \n",
       "\n",
       "  Q35_B_Part_4: In the next 2 years, do you hope to become more familiar with any of these tools for managing ML experiments? (Select all that apply) - Selected Choice -  Sacred + Omniboard   \\\n",
       "2                                                                                                                                                                                                \n",
       "\n",
       "  Q35_B_Part_5: In the next 2 years, do you hope to become more familiar with any of these tools for managing ML experiments? (Select all that apply) - Selected Choice -  TensorBoard   \\\n",
       "2                                       TensorBoard                                                                                                                                       \n",
       "\n",
       "  Q35_B_Part_6: In the next 2 years, do you hope to become more familiar with any of these tools for managing ML experiments? (Select all that apply) - Selected Choice -  Guild.ai   \\\n",
       "2                                                                                                                                                                                      \n",
       "\n",
       "  Q35_B_Part_7: In the next 2 years, do you hope to become more familiar with any of these tools for managing ML experiments? (Select all that apply) - Selected Choice -  Polyaxon   \\\n",
       "2                                                                                                                                                                                      \n",
       "\n",
       "  Q35_B_Part_8: In the next 2 years, do you hope to become more familiar with any of these tools for managing ML experiments? (Select all that apply) - Selected Choice -  Trains   \\\n",
       "2                                                                                                                                                                                    \n",
       "\n",
       "  Q35_B_Part_9: In the next 2 years, do you hope to become more familiar with any of these tools for managing ML experiments? (Select all that apply) - Selected Choice -  Domino Model Monitor   \\\n",
       "2                                                                                                                                                                                                  \n",
       "\n",
       "  Q35_B_Part_10: In the next 2 years, do you hope to become more familiar with any of these tools for managing ML experiments? (Select all that apply) - Selected Choice - None  \\\n",
       "2                                                                                                                                                                                 \n",
       "\n",
       "  Q35_B_OTHER: In the next 2 years, do you hope to become more familiar with any of these tools for managing ML experiments? (Select all that apply) - Selected Choice - Other  \n",
       "2                                                                                                                                                                               \n",
       "\n",
       "[1 rows x 355 columns]"
      ]
     },
     "execution_count": 3,
     "metadata": {},
     "output_type": "execute_result"
    }
   ],
   "source": [
    "survey.columns = survey.loc[0:1].apply(': '.join, axis=0)\n",
    "survey.drop([0,1],0, inplace=True)\n",
    "survey.head(1)"
   ]
  },
  {
   "cell_type": "markdown",
   "metadata": {},
   "source": [
    "## Function for grouping questions"
   ]
  },
  {
   "cell_type": "code",
   "execution_count": 4,
   "metadata": {},
   "outputs": [],
   "source": [
    "def grouping ():\n",
    "    question = input('Enter the number of the question')\n",
    "    name = input(\"Enter the name of the column: \")\n",
    "    survey[name] = survey.filter(regex=question, axis=1).apply(' '.join, axis=1)\n",
    "    survey.drop(survey.filter(regex=question, axis=1), 1 , inplace= True)\n",
    "    return f'{question} grouped'"
   ]
  },
  {
   "cell_type": "code",
   "execution_count": 5,
   "metadata": {},
   "outputs": [
    {
     "name": "stdin",
     "output_type": "stream",
     "text": [
      "Enter the number of the question Q7\n",
      "Enter the name of the column:  What programming languages do you use on a regular basis?\n"
     ]
    },
    {
     "data": {
      "text/plain": [
       "'Q7 grouped'"
      ]
     },
     "execution_count": 5,
     "metadata": {},
     "output_type": "execute_result"
    }
   ],
   "source": [
    "#Grouping Q7\n",
    "grouping()"
   ]
  },
  {
   "cell_type": "code",
   "execution_count": 6,
   "metadata": {},
   "outputs": [
    {
     "name": "stdin",
     "output_type": "stream",
     "text": [
      "Enter the number of the question Q9\n",
      "Enter the name of the column:  Which of the following integrated development environments (IDE's) do you use on a regular basis?\n"
     ]
    },
    {
     "data": {
      "text/plain": [
       "'Q9 grouped'"
      ]
     },
     "execution_count": 6,
     "metadata": {},
     "output_type": "execute_result"
    }
   ],
   "source": [
    "# Grouping Q9\n",
    "grouping()"
   ]
  },
  {
   "cell_type": "code",
   "execution_count": 7,
   "metadata": {},
   "outputs": [
    {
     "name": "stdin",
     "output_type": "stream",
     "text": [
      "Enter the number of the question Q10\n",
      "Enter the name of the column:  Which of the following hosted notebook products do you use on a regular basis?\n"
     ]
    },
    {
     "data": {
      "text/plain": [
       "'Q10 grouped'"
      ]
     },
     "execution_count": 7,
     "metadata": {},
     "output_type": "execute_result"
    }
   ],
   "source": [
    "# Grouping Q10\n",
    "grouping()"
   ]
  },
  {
   "cell_type": "code",
   "execution_count": 8,
   "metadata": {},
   "outputs": [
    {
     "name": "stdin",
     "output_type": "stream",
     "text": [
      "Enter the number of the question Q12\n",
      "Enter the name of the column:  Which types of specialized hardware do you use on a regular basis?\n"
     ]
    },
    {
     "data": {
      "text/plain": [
       "'Q12 grouped'"
      ]
     },
     "execution_count": 8,
     "metadata": {},
     "output_type": "execute_result"
    }
   ],
   "source": [
    "# Grouping Q12\n",
    "grouping()"
   ]
  },
  {
   "cell_type": "code",
   "execution_count": 9,
   "metadata": {},
   "outputs": [
    {
     "name": "stdin",
     "output_type": "stream",
     "text": [
      "Enter the number of the question Q14\n",
      "Enter the name of the column:  What data visualization libraries or tools do you use on a regular basis?\n"
     ]
    },
    {
     "data": {
      "text/plain": [
       "'Q14 grouped'"
      ]
     },
     "execution_count": 9,
     "metadata": {},
     "output_type": "execute_result"
    }
   ],
   "source": [
    "#Grouping Q14\n",
    "grouping()"
   ]
  },
  {
   "cell_type": "code",
   "execution_count": 10,
   "metadata": {},
   "outputs": [
    {
     "name": "stdin",
     "output_type": "stream",
     "text": [
      "Enter the number of the question Q16\n",
      "Enter the name of the column:  Which of the following machine learning frameworks do you use on a regular basis?\n"
     ]
    },
    {
     "data": {
      "text/plain": [
       "'Q16 grouped'"
      ]
     },
     "execution_count": 10,
     "metadata": {},
     "output_type": "execute_result"
    }
   ],
   "source": [
    "#Grouping Q16\n",
    "grouping()"
   ]
  },
  {
   "cell_type": "code",
   "execution_count": 11,
   "metadata": {},
   "outputs": [
    {
     "name": "stdin",
     "output_type": "stream",
     "text": [
      "Enter the number of the question Q17\n",
      "Enter the name of the column:  Which of the following ML algorithms do you use on a regular basis?\n"
     ]
    },
    {
     "data": {
      "text/plain": [
       "'Q17 grouped'"
      ]
     },
     "execution_count": 11,
     "metadata": {},
     "output_type": "execute_result"
    }
   ],
   "source": [
    "#Grouping Q17\n",
    "grouping()"
   ]
  },
  {
   "cell_type": "code",
   "execution_count": 12,
   "metadata": {},
   "outputs": [
    {
     "name": "stdin",
     "output_type": "stream",
     "text": [
      "Enter the number of the question Q18\n",
      "Enter the name of the column:  Which categories of computer vision methods do you use on a regular basis?\n"
     ]
    },
    {
     "data": {
      "text/plain": [
       "'Q18 grouped'"
      ]
     },
     "execution_count": 12,
     "metadata": {},
     "output_type": "execute_result"
    }
   ],
   "source": [
    "#Grouping Q18\n",
    "grouping()"
   ]
  },
  {
   "cell_type": "code",
   "execution_count": 14,
   "metadata": {},
   "outputs": [
    {
     "name": "stdin",
     "output_type": "stream",
     "text": [
      "Enter the number of the question Q19\n",
      "Enter the name of the column:  Which of the following natural language processing (NLP) methods do you use on a regular basis?\n"
     ]
    },
    {
     "data": {
      "text/plain": [
       "'Q19 grouped'"
      ]
     },
     "execution_count": 14,
     "metadata": {},
     "output_type": "execute_result"
    }
   ],
   "source": [
    "#Grouping Q19\n",
    "grouping()"
   ]
  },
  {
   "cell_type": "code",
   "execution_count": 15,
   "metadata": {},
   "outputs": [
    {
     "name": "stdin",
     "output_type": "stream",
     "text": [
      "Enter the number of the question Q23\n",
      "Enter the name of the column:  Select any activities that make up an important part of your role at work\n"
     ]
    },
    {
     "data": {
      "text/plain": [
       "'Q23 grouped'"
      ]
     },
     "execution_count": 15,
     "metadata": {},
     "output_type": "execute_result"
    }
   ],
   "source": [
    "# Grouping Q23\n",
    "grouping()"
   ]
  },
  {
   "cell_type": "code",
   "execution_count": 17,
   "metadata": {},
   "outputs": [
    {
     "name": "stdin",
     "output_type": "stream",
     "text": [
      "Enter the number of the question Q26_A\n",
      "Enter the name of the column:  Which of the following cloud computing platforms do you use on a regular basis?\n"
     ]
    },
    {
     "data": {
      "text/plain": [
       "'Q26_A grouped'"
      ]
     },
     "execution_count": 17,
     "metadata": {},
     "output_type": "execute_result"
    }
   ],
   "source": [
    "#Grouping Q26\n",
    "grouping()"
   ]
  },
  {
   "cell_type": "code",
   "execution_count": 20,
   "metadata": {},
   "outputs": [
    {
     "name": "stdin",
     "output_type": "stream",
     "text": [
      "Enter the number of the question Q27_A\n",
      "Enter the name of the column:  Do you use any of the following cloud computing products on a regular basis?\n"
     ]
    },
    {
     "data": {
      "text/plain": [
       "'Q27_A grouped'"
      ]
     },
     "execution_count": 20,
     "metadata": {},
     "output_type": "execute_result"
    }
   ],
   "source": [
    "#Grouping Q27\n",
    "grouping()"
   ]
  },
  {
   "cell_type": "code",
   "execution_count": 21,
   "metadata": {},
   "outputs": [
    {
     "name": "stdin",
     "output_type": "stream",
     "text": [
      "Enter the number of the question Q28_A\n",
      "Enter the name of the column:  Do you use any of the following machine learning products on a regular basis?\n"
     ]
    },
    {
     "data": {
      "text/plain": [
       "'Q28_A grouped'"
      ]
     },
     "execution_count": 21,
     "metadata": {},
     "output_type": "execute_result"
    }
   ],
   "source": [
    "#Grouping Q28\n",
    "grouping()"
   ]
  },
  {
   "cell_type": "code",
   "execution_count": 22,
   "metadata": {},
   "outputs": [
    {
     "name": "stdin",
     "output_type": "stream",
     "text": [
      "Enter the number of the question Q29_A\n",
      "Enter the name of the column:  Which of the following big data products (relational databases, data warehouses, data lakes, or similar) do you use on a regular basis?\n"
     ]
    },
    {
     "data": {
      "text/plain": [
       "'Q29_A grouped'"
      ]
     },
     "execution_count": 22,
     "metadata": {},
     "output_type": "execute_result"
    }
   ],
   "source": [
    "#Grouping Q29\n",
    "grouping()"
   ]
  },
  {
   "cell_type": "code",
   "execution_count": 23,
   "metadata": {},
   "outputs": [
    {
     "name": "stdin",
     "output_type": "stream",
     "text": [
      "Enter the number of the question Q31_A\n",
      "Enter the name of the column:  Which of the following business intelligence tools do you use on a regular basis?\n"
     ]
    },
    {
     "data": {
      "text/plain": [
       "'Q31_A grouped'"
      ]
     },
     "execution_count": 23,
     "metadata": {},
     "output_type": "execute_result"
    }
   ],
   "source": [
    "#Grouping Q31\n",
    "grouping()"
   ]
  },
  {
   "cell_type": "code",
   "execution_count": 24,
   "metadata": {},
   "outputs": [
    {
     "name": "stdin",
     "output_type": "stream",
     "text": [
      "Enter the number of the question Q33_A\n",
      "Enter the name of the column:  Do you use any automated machine learning tools (or partial AutoML tools) on a regular basis?\n"
     ]
    },
    {
     "data": {
      "text/plain": [
       "'Q33_A grouped'"
      ]
     },
     "execution_count": 24,
     "metadata": {},
     "output_type": "execute_result"
    }
   ],
   "source": [
    "#Grouping Q33\n",
    "grouping()"
   ]
  },
  {
   "cell_type": "code",
   "execution_count": 25,
   "metadata": {},
   "outputs": [
    {
     "name": "stdin",
     "output_type": "stream",
     "text": [
      "Enter the number of the question Q34_A\n",
      "Enter the name of the column:  Which of the following automated machine learning tools (or partial AutoML tools) do you use on a regular basis?\n"
     ]
    },
    {
     "data": {
      "text/plain": [
       "'Q34_A grouped'"
      ]
     },
     "execution_count": 25,
     "metadata": {},
     "output_type": "execute_result"
    }
   ],
   "source": [
    "#Grouping Q34\n",
    "grouping()"
   ]
  },
  {
   "cell_type": "code",
   "execution_count": 26,
   "metadata": {},
   "outputs": [
    {
     "name": "stdin",
     "output_type": "stream",
     "text": [
      "Enter the number of the question Q35_A\n",
      "Enter the name of the column:  Do you use any tools to help manage machine learning experiments?\n"
     ]
    },
    {
     "data": {
      "text/plain": [
       "'Q35_A grouped'"
      ]
     },
     "execution_count": 26,
     "metadata": {},
     "output_type": "execute_result"
    }
   ],
   "source": [
    "#Grouping Q35\n",
    "grouping()"
   ]
  },
  {
   "cell_type": "code",
   "execution_count": 27,
   "metadata": {},
   "outputs": [
    {
     "name": "stdin",
     "output_type": "stream",
     "text": [
      "Enter the number of the question Q36\n",
      "Enter the name of the column:  Where do you publicly share or deploy your data analysis or machine learning applications?\n"
     ]
    },
    {
     "data": {
      "text/plain": [
       "'Q36 grouped'"
      ]
     },
     "execution_count": 27,
     "metadata": {},
     "output_type": "execute_result"
    }
   ],
   "source": [
    "#Grouping Q36\n",
    "grouping()"
   ]
  },
  {
   "cell_type": "code",
   "execution_count": 28,
   "metadata": {},
   "outputs": [
    {
     "name": "stdin",
     "output_type": "stream",
     "text": [
      "Enter the number of the question Q37\n",
      "Enter the name of the column:  On which platforms have you begun or completed data science courses?\n"
     ]
    },
    {
     "data": {
      "text/plain": [
       "'Q37 grouped'"
      ]
     },
     "execution_count": 28,
     "metadata": {},
     "output_type": "execute_result"
    }
   ],
   "source": [
    "#Grouping Q37\n",
    "grouping()"
   ]
  },
  {
   "cell_type": "code",
   "execution_count": 29,
   "metadata": {},
   "outputs": [
    {
     "name": "stdin",
     "output_type": "stream",
     "text": [
      "Enter the number of the question Q39\n",
      "Enter the name of the column:  Who/what are your favorite media sources that report on data science topics?\n"
     ]
    },
    {
     "data": {
      "text/plain": [
       "'Q39 grouped'"
      ]
     },
     "execution_count": 29,
     "metadata": {},
     "output_type": "execute_result"
    }
   ],
   "source": [
    "#Grouping Q39\n",
    "grouping()"
   ]
  },
  {
   "cell_type": "code",
   "execution_count": 30,
   "metadata": {},
   "outputs": [
    {
     "data": {
      "text/plain": [
       "(20036, 139)"
      ]
     },
     "execution_count": 30,
     "metadata": {},
     "output_type": "execute_result"
    }
   ],
   "source": [
    "survey.shape"
   ]
  },
  {
   "cell_type": "markdown",
   "metadata": {},
   "source": [
    "### This part of the data correspond to the expectacions in the next 2 years, I´m gonna focus on the present so I´m gonna drop these columns, later I´ll analyze the expectations"
   ]
  },
  {
   "cell_type": "code",
   "execution_count": 36,
   "metadata": {},
   "outputs": [
    {
     "data": {
      "text/html": [
       "<div>\n",
       "<style scoped>\n",
       "    .dataframe tbody tr th:only-of-type {\n",
       "        vertical-align: middle;\n",
       "    }\n",
       "\n",
       "    .dataframe tbody tr th {\n",
       "        vertical-align: top;\n",
       "    }\n",
       "\n",
       "    .dataframe thead th {\n",
       "        text-align: right;\n",
       "    }\n",
       "</style>\n",
       "<table border=\"1\" class=\"dataframe\">\n",
       "  <thead>\n",
       "    <tr style=\"text-align: right;\">\n",
       "      <th></th>\n",
       "      <th>Q26_B_Part_1: Which of the following cloud computing platforms do you hope to become more familiar with in the next 2 years? - Selected Choice -  Amazon Web Services (AWS)</th>\n",
       "      <th>Q26_B_Part_2: Which of the following cloud computing platforms do you hope to become more familiar with in the next 2 years? - Selected Choice -  Microsoft Azure</th>\n",
       "      <th>Q26_B_Part_3: Which of the following cloud computing platforms do you hope to become more familiar with in the next 2 years? - Selected Choice -  Google Cloud Platform (GCP)</th>\n",
       "      <th>Q26_B_Part_4: Which of the following cloud computing platforms do you hope to become more familiar with in the next 2 years? - Selected Choice -  IBM Cloud / Red Hat</th>\n",
       "      <th>Q26_B_Part_5: Which of the following cloud computing platforms do you hope to become more familiar with in the next 2 years? - Selected Choice -  Oracle Cloud</th>\n",
       "      <th>Q26_B_Part_6: Which of the following cloud computing platforms do you hope to become more familiar with in the next 2 years? - Selected Choice -  SAP Cloud</th>\n",
       "      <th>Q26_B_Part_7: Which of the following cloud computing platforms do you hope to become more familiar with in the next 2 years? - Selected Choice -  VMware Cloud</th>\n",
       "      <th>Q26_B_Part_8: Which of the following cloud computing platforms do you hope to become more familiar with in the next 2 years? - Selected Choice -  Salesforce Cloud</th>\n",
       "      <th>Q26_B_Part_9: Which of the following cloud computing platforms do you hope to become more familiar with in the next 2 years? - Selected Choice -  Alibaba Cloud</th>\n",
       "      <th>Q26_B_Part_10: Which of the following cloud computing platforms do you hope to become more familiar with in the next 2 years? - Selected Choice -  Tencent Cloud</th>\n",
       "      <th>...</th>\n",
       "      <th>Q35_B_Part_2: In the next 2 years, do you hope to become more familiar with any of these tools for managing ML experiments? (Select all that apply) - Selected Choice -  Weights &amp; Biases</th>\n",
       "      <th>Q35_B_Part_3: In the next 2 years, do you hope to become more familiar with any of these tools for managing ML experiments? (Select all that apply) - Selected Choice -  Comet.ml</th>\n",
       "      <th>Q35_B_Part_4: In the next 2 years, do you hope to become more familiar with any of these tools for managing ML experiments? (Select all that apply) - Selected Choice -  Sacred + Omniboard</th>\n",
       "      <th>Q35_B_Part_5: In the next 2 years, do you hope to become more familiar with any of these tools for managing ML experiments? (Select all that apply) - Selected Choice -  TensorBoard</th>\n",
       "      <th>Q35_B_Part_6: In the next 2 years, do you hope to become more familiar with any of these tools for managing ML experiments? (Select all that apply) - Selected Choice -  Guild.ai</th>\n",
       "      <th>Q35_B_Part_7: In the next 2 years, do you hope to become more familiar with any of these tools for managing ML experiments? (Select all that apply) - Selected Choice -  Polyaxon</th>\n",
       "      <th>Q35_B_Part_8: In the next 2 years, do you hope to become more familiar with any of these tools for managing ML experiments? (Select all that apply) - Selected Choice -  Trains</th>\n",
       "      <th>Q35_B_Part_9: In the next 2 years, do you hope to become more familiar with any of these tools for managing ML experiments? (Select all that apply) - Selected Choice -  Domino Model Monitor</th>\n",
       "      <th>Q35_B_Part_10: In the next 2 years, do you hope to become more familiar with any of these tools for managing ML experiments? (Select all that apply) - Selected Choice - None</th>\n",
       "      <th>Q35_B_OTHER: In the next 2 years, do you hope to become more familiar with any of these tools for managing ML experiments? (Select all that apply) - Selected Choice - Other</th>\n",
       "    </tr>\n",
       "  </thead>\n",
       "  <tbody>\n",
       "    <tr>\n",
       "      <th>2</th>\n",
       "      <td>Amazon Web Services (AWS)</td>\n",
       "      <td>Microsoft Azure</td>\n",
       "      <td>Google Cloud Platform (GCP)</td>\n",
       "      <td>IBM Cloud / Red Hat</td>\n",
       "      <td></td>\n",
       "      <td>SAP Cloud</td>\n",
       "      <td></td>\n",
       "      <td></td>\n",
       "      <td></td>\n",
       "      <td></td>\n",
       "      <td>...</td>\n",
       "      <td></td>\n",
       "      <td></td>\n",
       "      <td></td>\n",
       "      <td>TensorBoard</td>\n",
       "      <td></td>\n",
       "      <td></td>\n",
       "      <td></td>\n",
       "      <td></td>\n",
       "      <td></td>\n",
       "      <td></td>\n",
       "    </tr>\n",
       "  </tbody>\n",
       "</table>\n",
       "<p>1 rows × 99 columns</p>\n",
       "</div>"
      ],
      "text/plain": [
       "  Q26_B_Part_1: Which of the following cloud computing platforms do you hope to become more familiar with in the next 2 years? - Selected Choice -  Amazon Web Services (AWS)   \\\n",
       "2                         Amazon Web Services (AWS)                                                                                                                              \n",
       "\n",
       "  Q26_B_Part_2: Which of the following cloud computing platforms do you hope to become more familiar with in the next 2 years? - Selected Choice -  Microsoft Azure   \\\n",
       "2                                   Microsoft Azure                                                                                                                    \n",
       "\n",
       "  Q26_B_Part_3: Which of the following cloud computing platforms do you hope to become more familiar with in the next 2 years? - Selected Choice -  Google Cloud Platform (GCP)   \\\n",
       "2                       Google Cloud Platform (GCP)                                                                                                                                \n",
       "\n",
       "  Q26_B_Part_4: Which of the following cloud computing platforms do you hope to become more familiar with in the next 2 years? - Selected Choice -  IBM Cloud / Red Hat   \\\n",
       "2                               IBM Cloud / Red Hat                                                                                                                        \n",
       "\n",
       "  Q26_B_Part_5: Which of the following cloud computing platforms do you hope to become more familiar with in the next 2 years? - Selected Choice -  Oracle Cloud   \\\n",
       "2                                                                                                                                                                   \n",
       "\n",
       "  Q26_B_Part_6: Which of the following cloud computing platforms do you hope to become more familiar with in the next 2 years? - Selected Choice -  SAP Cloud   \\\n",
       "2                                         SAP Cloud                                                                                                              \n",
       "\n",
       "  Q26_B_Part_7: Which of the following cloud computing platforms do you hope to become more familiar with in the next 2 years? - Selected Choice -  VMware Cloud   \\\n",
       "2                                                                                                                                                                   \n",
       "\n",
       "  Q26_B_Part_8: Which of the following cloud computing platforms do you hope to become more familiar with in the next 2 years? - Selected Choice -  Salesforce Cloud   \\\n",
       "2                                                                                                                                                                       \n",
       "\n",
       "  Q26_B_Part_9: Which of the following cloud computing platforms do you hope to become more familiar with in the next 2 years? - Selected Choice -  Alibaba Cloud   \\\n",
       "2                                                                                                                                                                    \n",
       "\n",
       "  Q26_B_Part_10: Which of the following cloud computing platforms do you hope to become more familiar with in the next 2 years? - Selected Choice -  Tencent Cloud   \\\n",
       "2                                                                                                                                                                     \n",
       "\n",
       "   ...  \\\n",
       "2  ...   \n",
       "\n",
       "  Q35_B_Part_2: In the next 2 years, do you hope to become more familiar with any of these tools for managing ML experiments? (Select all that apply) - Selected Choice -  Weights & Biases   \\\n",
       "2                                                                                                                                                                                              \n",
       "\n",
       "  Q35_B_Part_3: In the next 2 years, do you hope to become more familiar with any of these tools for managing ML experiments? (Select all that apply) - Selected Choice -  Comet.ml   \\\n",
       "2                                                                                                                                                                                      \n",
       "\n",
       "  Q35_B_Part_4: In the next 2 years, do you hope to become more familiar with any of these tools for managing ML experiments? (Select all that apply) - Selected Choice -  Sacred + Omniboard   \\\n",
       "2                                                                                                                                                                                                \n",
       "\n",
       "  Q35_B_Part_5: In the next 2 years, do you hope to become more familiar with any of these tools for managing ML experiments? (Select all that apply) - Selected Choice -  TensorBoard   \\\n",
       "2                                       TensorBoard                                                                                                                                       \n",
       "\n",
       "  Q35_B_Part_6: In the next 2 years, do you hope to become more familiar with any of these tools for managing ML experiments? (Select all that apply) - Selected Choice -  Guild.ai   \\\n",
       "2                                                                                                                                                                                      \n",
       "\n",
       "  Q35_B_Part_7: In the next 2 years, do you hope to become more familiar with any of these tools for managing ML experiments? (Select all that apply) - Selected Choice -  Polyaxon   \\\n",
       "2                                                                                                                                                                                      \n",
       "\n",
       "  Q35_B_Part_8: In the next 2 years, do you hope to become more familiar with any of these tools for managing ML experiments? (Select all that apply) - Selected Choice -  Trains   \\\n",
       "2                                                                                                                                                                                    \n",
       "\n",
       "  Q35_B_Part_9: In the next 2 years, do you hope to become more familiar with any of these tools for managing ML experiments? (Select all that apply) - Selected Choice -  Domino Model Monitor   \\\n",
       "2                                                                                                                                                                                                  \n",
       "\n",
       "  Q35_B_Part_10: In the next 2 years, do you hope to become more familiar with any of these tools for managing ML experiments? (Select all that apply) - Selected Choice - None  \\\n",
       "2                                                                                                                                                                                 \n",
       "\n",
       "  Q35_B_OTHER: In the next 2 years, do you hope to become more familiar with any of these tools for managing ML experiments? (Select all that apply) - Selected Choice - Other  \n",
       "2                                                                                                                                                                               \n",
       "\n",
       "[1 rows x 99 columns]"
      ]
     },
     "execution_count": 36,
     "metadata": {},
     "output_type": "execute_result"
    }
   ],
   "source": [
    "survey.iloc[:,19:118].head(1)"
   ]
  },
  {
   "cell_type": "code",
   "execution_count": 37,
   "metadata": {},
   "outputs": [],
   "source": [
    "survey.drop(survey.iloc[:,19:118], 1, inplace= True)"
   ]
  },
  {
   "cell_type": "code",
   "execution_count": 39,
   "metadata": {},
   "outputs": [],
   "source": [
    "survey.to_csv('filtered_survey.csv', index=False)"
   ]
  },
  {
   "cell_type": "markdown",
   "metadata": {},
   "source": [
    "#### LIST OF FINAL COLUMNS"
   ]
  },
  {
   "cell_type": "code",
   "execution_count": 38,
   "metadata": {},
   "outputs": [
    {
     "data": {
      "text/plain": [
       "Index(['Time from Start to Finish (seconds): Duration (in seconds)',\n",
       "       'Q1: What is your age (# years)?',\n",
       "       'Q2: What is your gender? - Selected Choice',\n",
       "       'Q3: In which country do you currently reside?',\n",
       "       'Q4: What is the highest level of formal education that you have attained or plan to attain within the next 2 years?',\n",
       "       'Q5: Select the title most similar to your current role (or most recent title if retired): - Selected Choice',\n",
       "       'Q6: For how many years have you been writing code and/or programming?',\n",
       "       'Q8: What programming language would you recommend an aspiring data scientist to learn first? - Selected Choice',\n",
       "       'Q11: What type of computing platform do you use most often for your data science projects? - Selected Choice',\n",
       "       'Q13: Approximately how many times have you used a TPU (tensor processing unit)?',\n",
       "       'Q15: For how many years have you used machine learning methods?',\n",
       "       'Q20: What is the size of the company where you are employed?',\n",
       "       'Q21: Approximately how many individuals are responsible for data science workloads at your place of business?',\n",
       "       'Q22: Does your current employer incorporate machine learning methods into their business?',\n",
       "       'Q24: What is your current yearly compensation (approximate $USD)?',\n",
       "       'Q25: Approximately how much money have you (or your team) spent on machine learning and/or cloud computing services at home (or at work) in the past 5 years (approximate $USD)?',\n",
       "       'Q30: Which of the following big data products (relational database, data warehouse, data lake, or similar) do you use most often? - Selected Choice',\n",
       "       'Q32: Which of the following business intelligence tools do you use most often? - Selected Choice',\n",
       "       'Q38: What is the primary tool that you use at work or school to analyze data? (Include text response) - Selected Choice',\n",
       "       'What programming languages do you use on a regular basis?',\n",
       "       'Which of the following integrated development environments (IDE's) do you use on a regular basis?',\n",
       "       'Which of the following hosted notebook products do you use on a regular basis?',\n",
       "       'Which types of specialized hardware do you use on a regular basis?',\n",
       "       'What data visualization libraries or tools do you use on a regular basis?',\n",
       "       'Which of the following machine learning frameworks do you use on a regular basis?',\n",
       "       'Which of the following ML algorithms do you use on a regular basis?',\n",
       "       'Which categories of computer vision methods do you use on a regular basis?',\n",
       "       'Which of the following natural language processing (NLP) methods do you use on a regular basis?',\n",
       "       'Select any activities that make up an important part of your role at work',\n",
       "       'Which of the following cloud computing platforms do you use on a regular basis?',\n",
       "       'Do you use any of the following cloud computing products on a regular basis?',\n",
       "       'Do you use any of the following machine learning products on a regular basis?',\n",
       "       'Which of the following big data products (relational databases, data warehouses, data lakes, or similar) do you use on a regular basis?',\n",
       "       'Which of the following business intelligence tools do you use on a regular basis?',\n",
       "       'Do you use any automated machine learning tools (or partial AutoML tools) on a regular basis?',\n",
       "       'Which of the following automated machine learning tools (or partial AutoML tools) do you use on a regular basis?',\n",
       "       'Do you use any tools to help manage machine learning experiments?',\n",
       "       'Where do you publicly share or deploy your data analysis or machine learning applications?',\n",
       "       'On which platforms have you begun or completed data science courses?',\n",
       "       'Who/what are your favorite media sources that report on data science topics?'],\n",
       "      dtype='object')"
      ]
     },
     "execution_count": 38,
     "metadata": {},
     "output_type": "execute_result"
    }
   ],
   "source": [
    "survey.columns"
   ]
  },
  {
   "cell_type": "markdown",
   "metadata": {},
   "source": [
    "### Enumerating the columns with another index to identify and work better with them"
   ]
  },
  {
   "cell_type": "code",
   "execution_count": 40,
   "metadata": {},
   "outputs": [
    {
     "name": "stdout",
     "output_type": "stream",
     "text": [
      "(20036, 40)\n"
     ]
    },
    {
     "data": {
      "text/html": [
       "<div>\n",
       "<style scoped>\n",
       "    .dataframe tbody tr th:only-of-type {\n",
       "        vertical-align: middle;\n",
       "    }\n",
       "\n",
       "    .dataframe tbody tr th {\n",
       "        vertical-align: top;\n",
       "    }\n",
       "\n",
       "    .dataframe thead th {\n",
       "        text-align: right;\n",
       "    }\n",
       "</style>\n",
       "<table border=\"1\" class=\"dataframe\">\n",
       "  <thead>\n",
       "    <tr style=\"text-align: right;\">\n",
       "      <th></th>\n",
       "      <th>Time from Start to Finish (seconds): Duration (in seconds)</th>\n",
       "      <th>Q1: What is your age (# years)?</th>\n",
       "      <th>Q2: What is your gender? - Selected Choice</th>\n",
       "      <th>Q3: In which country do you currently reside?</th>\n",
       "      <th>Q4: What is the highest level of formal education that you have attained or plan to attain within the next 2 years?</th>\n",
       "      <th>Q5: Select the title most similar to your current role (or most recent title if retired): - Selected Choice</th>\n",
       "      <th>Q6: For how many years have you been writing code and/or programming?</th>\n",
       "      <th>Q8: What programming language would you recommend an aspiring data scientist to learn first? - Selected Choice</th>\n",
       "      <th>Q11: What type of computing platform do you use most often for your data science projects? - Selected Choice</th>\n",
       "      <th>Q13: Approximately how many times have you used a TPU (tensor processing unit)?</th>\n",
       "      <th>...</th>\n",
       "      <th>Do you use any of the following cloud computing products on a regular basis?</th>\n",
       "      <th>Do you use any of the following machine learning products on a regular basis?</th>\n",
       "      <th>Which of the following big data products (relational databases, data warehouses, data lakes, or similar) do you use on a regular basis?</th>\n",
       "      <th>Which of the following business intelligence tools do you use on a regular basis?</th>\n",
       "      <th>Do you use any automated machine learning tools (or partial AutoML tools) on a regular basis?</th>\n",
       "      <th>Which of the following automated machine learning tools (or partial AutoML tools) do you use on a regular basis?</th>\n",
       "      <th>Do you use any tools to help manage machine learning experiments?</th>\n",
       "      <th>Where do you publicly share or deploy your data analysis or machine learning applications?</th>\n",
       "      <th>On which platforms have you begun or completed data science courses?</th>\n",
       "      <th>Who/what are your favorite media sources that report on data science topics?</th>\n",
       "    </tr>\n",
       "  </thead>\n",
       "  <tbody>\n",
       "    <tr>\n",
       "      <th>20035</th>\n",
       "      <td>1031</td>\n",
       "      <td>22-24</td>\n",
       "      <td>Man</td>\n",
       "      <td>Pakistan</td>\n",
       "      <td>Master’s degree</td>\n",
       "      <td>Machine Learning Engineer</td>\n",
       "      <td>&lt; 1 years</td>\n",
       "      <td>Python</td>\n",
       "      <td>A cloud computing platform (AWS, Azure, GCP, h...</td>\n",
       "      <td>Once</td>\n",
       "      <td>...</td>\n",
       "      <td></td>\n",
       "      <td></td>\n",
       "      <td></td>\n",
       "      <td></td>\n",
       "      <td></td>\n",
       "      <td></td>\n",
       "      <td></td>\n",
       "      <td></td>\n",
       "      <td>Coursera edX Kaggle Learn Courses   Fast.ai Ud...</td>\n",
       "      <td>Kaggle (notebooks, forums, etc) Course F...</td>\n",
       "    </tr>\n",
       "    <tr>\n",
       "      <th>20036</th>\n",
       "      <td>0</td>\n",
       "      <td>1</td>\n",
       "      <td>2</td>\n",
       "      <td>3</td>\n",
       "      <td>4</td>\n",
       "      <td>5</td>\n",
       "      <td>6</td>\n",
       "      <td>7</td>\n",
       "      <td>8</td>\n",
       "      <td>9</td>\n",
       "      <td>...</td>\n",
       "      <td>30</td>\n",
       "      <td>31</td>\n",
       "      <td>32</td>\n",
       "      <td>33</td>\n",
       "      <td>34</td>\n",
       "      <td>35</td>\n",
       "      <td>36</td>\n",
       "      <td>37</td>\n",
       "      <td>38</td>\n",
       "      <td>39</td>\n",
       "    </tr>\n",
       "  </tbody>\n",
       "</table>\n",
       "<p>2 rows × 40 columns</p>\n",
       "</div>"
      ],
      "text/plain": [
       "       Time from Start to Finish (seconds): Duration (in seconds)  \\\n",
       "20035                                               1031            \n",
       "20036                                                  0            \n",
       "\n",
       "      Q1: What is your age (# years)?  \\\n",
       "20035                           22-24   \n",
       "20036                               1   \n",
       "\n",
       "      Q2: What is your gender? - Selected Choice  \\\n",
       "20035                                        Man   \n",
       "20036                                          2   \n",
       "\n",
       "      Q3: In which country do you currently reside?  \\\n",
       "20035                                      Pakistan   \n",
       "20036                                             3   \n",
       "\n",
       "      Q4: What is the highest level of formal education that you have attained or plan to attain within the next 2 years?  \\\n",
       "20035                                    Master’s degree                                                                    \n",
       "20036                                                  4                                                                    \n",
       "\n",
       "      Q5: Select the title most similar to your current role (or most recent title if retired): - Selected Choice  \\\n",
       "20035                          Machine Learning Engineer                                                            \n",
       "20036                                                  5                                                            \n",
       "\n",
       "      Q6: For how many years have you been writing code and/or programming?  \\\n",
       "20035                                          < 1 years                      \n",
       "20036                                                  6                      \n",
       "\n",
       "      Q8: What programming language would you recommend an aspiring data scientist to learn first? - Selected Choice  \\\n",
       "20035                                             Python                                                               \n",
       "20036                                                  7                                                               \n",
       "\n",
       "      Q11: What type of computing platform do you use most often for your data science projects? - Selected Choice  \\\n",
       "20035  A cloud computing platform (AWS, Azure, GCP, h...                                                             \n",
       "20036                                                  8                                                             \n",
       "\n",
       "      Q13: Approximately how many times have you used a TPU (tensor processing unit)?  \\\n",
       "20035                                               Once                                \n",
       "20036                                                  9                                \n",
       "\n",
       "       ...  \\\n",
       "20035  ...   \n",
       "20036  ...   \n",
       "\n",
       "      Do you use any of the following cloud computing products on a regular basis?  \\\n",
       "20035                                                                                \n",
       "20036                                                 30                             \n",
       "\n",
       "      Do you use any of the following machine learning products on a regular basis?  \\\n",
       "20035                                                                                 \n",
       "20036                                                 31                              \n",
       "\n",
       "      Which of the following big data products (relational databases, data warehouses, data lakes, or similar) do you use on a regular basis?  \\\n",
       "20035                                                                                                                                           \n",
       "20036                                                 32                                                                                        \n",
       "\n",
       "      Which of the following business intelligence tools do you use on a regular basis?  \\\n",
       "20035                                                                                     \n",
       "20036                                                 33                                  \n",
       "\n",
       "      Do you use any automated machine learning tools (or partial AutoML tools) on a regular basis?  \\\n",
       "20035                                                                                                 \n",
       "20036                                                 34                                              \n",
       "\n",
       "      Which of the following automated machine learning tools (or partial AutoML tools) do you use on a regular basis?  \\\n",
       "20035                                                                                                                    \n",
       "20036                                                 35                                                                 \n",
       "\n",
       "      Do you use any tools to help manage machine learning experiments?  \\\n",
       "20035                                                                     \n",
       "20036                                                 36                  \n",
       "\n",
       "      Where do you publicly share or deploy your data analysis or machine learning applications?  \\\n",
       "20035                                                                                              \n",
       "20036                                                 37                                           \n",
       "\n",
       "      On which platforms have you begun or completed data science courses?  \\\n",
       "20035  Coursera edX Kaggle Learn Courses   Fast.ai Ud...                     \n",
       "20036                                                 38                     \n",
       "\n",
       "      Who/what are your favorite media sources that report on data science topics?  \n",
       "20035        Kaggle (notebooks, forums, etc) Course F...                            \n",
       "20036                                                 39                            \n",
       "\n",
       "[2 rows x 40 columns]"
      ]
     },
     "metadata": {},
     "output_type": "display_data"
    },
    {
     "data": {
      "text/html": [
       "<div>\n",
       "<style scoped>\n",
       "    .dataframe tbody tr th:only-of-type {\n",
       "        vertical-align: middle;\n",
       "    }\n",
       "\n",
       "    .dataframe tbody tr th {\n",
       "        vertical-align: top;\n",
       "    }\n",
       "\n",
       "    .dataframe thead tr th {\n",
       "        text-align: left;\n",
       "    }\n",
       "</style>\n",
       "<table border=\"1\" class=\"dataframe\">\n",
       "  <thead>\n",
       "    <tr>\n",
       "      <th></th>\n",
       "      <th>0</th>\n",
       "      <th>1</th>\n",
       "      <th>2</th>\n",
       "      <th>3</th>\n",
       "      <th>4</th>\n",
       "      <th>5</th>\n",
       "      <th>6</th>\n",
       "      <th>7</th>\n",
       "      <th>8</th>\n",
       "      <th>9</th>\n",
       "      <th>...</th>\n",
       "      <th>30</th>\n",
       "      <th>31</th>\n",
       "      <th>32</th>\n",
       "      <th>33</th>\n",
       "      <th>34</th>\n",
       "      <th>35</th>\n",
       "      <th>36</th>\n",
       "      <th>37</th>\n",
       "      <th>38</th>\n",
       "      <th>39</th>\n",
       "    </tr>\n",
       "    <tr>\n",
       "      <th></th>\n",
       "      <th>Time from Start to Finish (seconds): Duration (in seconds)</th>\n",
       "      <th>Q1: What is your age (# years)?</th>\n",
       "      <th>Q2: What is your gender? - Selected Choice</th>\n",
       "      <th>Q3: In which country do you currently reside?</th>\n",
       "      <th>Q4: What is the highest level of formal education that you have attained or plan to attain within the next 2 years?</th>\n",
       "      <th>Q5: Select the title most similar to your current role (or most recent title if retired): - Selected Choice</th>\n",
       "      <th>Q6: For how many years have you been writing code and/or programming?</th>\n",
       "      <th>Q8: What programming language would you recommend an aspiring data scientist to learn first? - Selected Choice</th>\n",
       "      <th>Q11: What type of computing platform do you use most often for your data science projects? - Selected Choice</th>\n",
       "      <th>Q13: Approximately how many times have you used a TPU (tensor processing unit)?</th>\n",
       "      <th>...</th>\n",
       "      <th>Do you use any of the following cloud computing products on a regular basis?</th>\n",
       "      <th>Do you use any of the following machine learning products on a regular basis?</th>\n",
       "      <th>Which of the following big data products (relational databases, data warehouses, data lakes, or similar) do you use on a regular basis?</th>\n",
       "      <th>Which of the following business intelligence tools do you use on a regular basis?</th>\n",
       "      <th>Do you use any automated machine learning tools (or partial AutoML tools) on a regular basis?</th>\n",
       "      <th>Which of the following automated machine learning tools (or partial AutoML tools) do you use on a regular basis?</th>\n",
       "      <th>Do you use any tools to help manage machine learning experiments?</th>\n",
       "      <th>Where do you publicly share or deploy your data analysis or machine learning applications?</th>\n",
       "      <th>On which platforms have you begun or completed data science courses?</th>\n",
       "      <th>Who/what are your favorite media sources that report on data science topics?</th>\n",
       "    </tr>\n",
       "  </thead>\n",
       "  <tbody>\n",
       "    <tr>\n",
       "      <th>0</th>\n",
       "      <td>1838</td>\n",
       "      <td>35-39</td>\n",
       "      <td>Man</td>\n",
       "      <td>Colombia</td>\n",
       "      <td>Doctoral degree</td>\n",
       "      <td>Student</td>\n",
       "      <td>5-10 years</td>\n",
       "      <td>Python</td>\n",
       "      <td>A cloud computing platform (AWS, Azure, GCP, h...</td>\n",
       "      <td>2-5 times</td>\n",
       "      <td>...</td>\n",
       "      <td></td>\n",
       "      <td></td>\n",
       "      <td></td>\n",
       "      <td></td>\n",
       "      <td></td>\n",
       "      <td></td>\n",
       "      <td></td>\n",
       "      <td></td>\n",
       "      <td>Coursera   Kaggle Learn Courses             Un...</td>\n",
       "      <td>Kaggle (notebooks, forums, etc)         ...</td>\n",
       "    </tr>\n",
       "  </tbody>\n",
       "</table>\n",
       "<p>1 rows × 40 columns</p>\n",
       "</div>"
      ],
      "text/plain": [
       "                                                           0  \\\n",
       "  Time from Start to Finish (seconds): Duration (in seconds)   \n",
       "0                                               1838           \n",
       "\n",
       "                                1                                          2  \\\n",
       "  Q1: What is your age (# years)? Q2: What is your gender? - Selected Choice   \n",
       "0                           35-39                                        Man   \n",
       "\n",
       "                                              3  \\\n",
       "  Q3: In which country do you currently reside?   \n",
       "0                                      Colombia   \n",
       "\n",
       "                                                                                                                    4  \\\n",
       "  Q4: What is the highest level of formal education that you have attained or plan to attain within the next 2 years?   \n",
       "0                                    Doctoral degree                                                                    \n",
       "\n",
       "                                                                                                            5  \\\n",
       "  Q5: Select the title most similar to your current role (or most recent title if retired): - Selected Choice   \n",
       "0                                            Student                                                            \n",
       "\n",
       "                                                                      6  \\\n",
       "  Q6: For how many years have you been writing code and/or programming?   \n",
       "0                                         5-10 years                      \n",
       "\n",
       "                                                                                                               7  \\\n",
       "  Q8: What programming language would you recommend an aspiring data scientist to learn first? - Selected Choice   \n",
       "0                                             Python                                                               \n",
       "\n",
       "                                                                                                             8  \\\n",
       "  Q11: What type of computing platform do you use most often for your data science projects? - Selected Choice   \n",
       "0  A cloud computing platform (AWS, Azure, GCP, h...                                                             \n",
       "\n",
       "                                                                                9  \\\n",
       "  Q13: Approximately how many times have you used a TPU (tensor processing unit)?   \n",
       "0                                          2-5 times                                \n",
       "\n",
       "   ...  \\\n",
       "   ...   \n",
       "0  ...   \n",
       "\n",
       "                                                                            30  \\\n",
       "  Do you use any of the following cloud computing products on a regular basis?   \n",
       "0                                                                                \n",
       "\n",
       "                                                                             31  \\\n",
       "  Do you use any of the following machine learning products on a regular basis?   \n",
       "0                                                                                 \n",
       "\n",
       "                                                                                                                                       32  \\\n",
       "  Which of the following big data products (relational databases, data warehouses, data lakes, or similar) do you use on a regular basis?   \n",
       "0                                                                                                                                           \n",
       "\n",
       "                                                                                 33  \\\n",
       "  Which of the following business intelligence tools do you use on a regular basis?   \n",
       "0                                                                                     \n",
       "\n",
       "                                                                                             34  \\\n",
       "  Do you use any automated machine learning tools (or partial AutoML tools) on a regular basis?   \n",
       "0                                                                                                 \n",
       "\n",
       "                                                                                                                35  \\\n",
       "  Which of the following automated machine learning tools (or partial AutoML tools) do you use on a regular basis?   \n",
       "0                                                                                                                    \n",
       "\n",
       "                                                                 36  \\\n",
       "  Do you use any tools to help manage machine learning experiments?   \n",
       "0                                                                     \n",
       "\n",
       "                                                                                          37  \\\n",
       "  Where do you publicly share or deploy your data analysis or machine learning applications?   \n",
       "0                                                                                              \n",
       "\n",
       "                                                                    38  \\\n",
       "  On which platforms have you begun or completed data science courses?   \n",
       "0  Coursera   Kaggle Learn Courses             Un...                     \n",
       "\n",
       "                                                                            39  \n",
       "  Who/what are your favorite media sources that report on data science topics?  \n",
       "0        Kaggle (notebooks, forums, etc)         ...                            \n",
       "\n",
       "[1 rows x 40 columns]"
      ]
     },
     "metadata": {},
     "output_type": "display_data"
    }
   ],
   "source": [
    "survey = pd.read_csv('filtered_survey.csv')\n",
    "print(survey.shape)\n",
    "survey.loc[20036] = list(range(0,40))\n",
    "display(survey.tail(2))\n",
    "\n",
    "survey.to_csv('filtered_survey.csv', index=False)\n",
    "survey= pd.read_csv('filtered_survey.csv',header = [20037, 0])\n",
    "display(survey.head(1))\n",
    "\n",
    "survey.to_csv('filtered_survey.csv', index=False)\n",
    "\n"
   ]
  }
 ],
 "metadata": {
  "kernelspec": {
   "display_name": "Python 3",
   "language": "python",
   "name": "python3"
  },
  "language_info": {
   "codemirror_mode": {
    "name": "ipython",
    "version": 3
   },
   "file_extension": ".py",
   "mimetype": "text/x-python",
   "name": "python",
   "nbconvert_exporter": "python",
   "pygments_lexer": "ipython3",
   "version": "3.7.6"
  }
 },
 "nbformat": 4,
 "nbformat_minor": 4
}
